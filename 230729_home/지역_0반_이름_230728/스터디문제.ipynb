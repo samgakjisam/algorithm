{
 "cells": [
  {
   "cell_type": "markdown",
   "metadata": {},
   "source": [
    "### 별찍기"
   ]
  },
  {
   "cell_type": "code",
   "execution_count": null,
   "metadata": {},
   "outputs": [],
   "source": [
    "n = int(input())\n",
    "\n",
    "for i in range(1, n + 1):\n",
    "    print(' ' * (n - i) + '*' * i)"
   ]
  },
  {
   "cell_type": "markdown",
   "metadata": {},
   "source": [
    "### chacha_4"
   ]
  },
  {
   "cell_type": "markdown",
   "metadata": {},
   "source": [
    "- 키워드 가변인자 받기"
   ]
  },
  {
   "cell_type": "code",
   "execution_count": null,
   "metadata": {},
   "outputs": [],
   "source": [
    "def is_id_valid(**kwargs):\n",
    "    print(kwargs)\n",
    "    print(kwargs.keys()) # 키를 리스트형식으로 반환\n",
    "    print(kwargs.values()) # 밸류를 리스트형식으로 반환\n",
    "    print(kwargs.items()) # 키-값 쌍을 튜플 -> 리스트 형식으로 반환\n",
    "    \n",
    "    \n",
    "    \n",
    "# user_data = {'id' : input()}\n",
    "is_id_valid(id = input())"
   ]
  },
  {
   "cell_type": "code",
   "execution_count": 9,
   "metadata": {},
   "outputs": [
    {
     "name": "stdout",
     "output_type": "stream",
     "text": [
      "False\n"
     ]
    }
   ],
   "source": [
    "def is_id_valid(user_data):\n",
    "    # num = ['0', '1', '2', '3', '4', '5', '6', '7', '8', '9']\n",
    "    # if user_data['id'][-1] in num:\n",
    "    #     return True\n",
    "    # else:\n",
    "    #     return False\n",
    "    print(user_data['id'][-1].isdigit())\n",
    "    # if int(user_data['id'][-1]):\n",
    "    #     return True\n",
    "    # else:\n",
    "    #     return False\n",
    "    \n",
    "user_data = {'id' : input()}\n",
    "is_id_valid(user_data)"
   ]
  },
  {
   "cell_type": "markdown",
   "metadata": {},
   "source": [
    "### 김준환 1."
   ]
  },
  {
   "cell_type": "code",
   "execution_count": 17,
   "metadata": {},
   "outputs": [
    {
     "name": "stdout",
     "output_type": "stream",
     "text": [
      "[59, 71, 44, 100, 93]\n",
      "44\n",
      "100\n",
      "5\n",
      "367\n",
      "44\n",
      "100\n",
      "5\n",
      "367\n"
     ]
    }
   ],
   "source": [
    "my_list = [59, 71, 44, 100, 93, ]\n",
    "\n",
    "print(my_list) # 93 이후는 출력 안됨\n",
    "print(min(my_list))\n",
    "print(max(my_list))\n",
    "print(len(my_list))\n",
    "print(sum(my_list))\n",
    "\n",
    "# 위의 코드 실행결과는 엄청 쉽죠\n",
    "# 내장 함수를 사용하지 말라고 했기 때문에 직접 만드는 문제 나올 것 같아요\n",
    "# min, max, len, sum 함수를 만들어서\n",
    "# 아래의 코드 실행결과도 같도록 함수를 만들어보세요\n",
    "# (주석으로 코드 설명을 꼭 써주세요)\n",
    "\n",
    "#####################\n",
    "# 만들기 전에!! 그냥 이 상태로 코드 실행해보면 아래의 print 네개는 뭘 출력할까요?\n",
    "# 아무것도 출력하지 않음 ==> None을 출력함\n",
    "# 왜 그럴까요?\n",
    "# >>> 음,, pass 라서?\n",
    "\n",
    "def my_min(list_1):\n",
    "    min_num = list_1[0] # 첫 요소를 min_num에 추가\n",
    "    for i in list_1: # 리스트 순회\n",
    "        if i < min_num: # i가 min_num보다 작으면\n",
    "            min_num = i # min_num에 i 할당\n",
    "    return min_num\n",
    "\n",
    "def my_max(list_1):\n",
    "    max_num = list_1[0] # 첫 요소를 min_num에 추가\n",
    "    for i in list_1: # 리스트 순회\n",
    "        if max_num< i: # i가 min_num보다 작으면\n",
    "            max_num = i # min_num에 i 할당\n",
    "    return max_num\n",
    "    \n",
    "def my_len(list_1):\n",
    "    length = 0\n",
    "    for i in list_1:\n",
    "        length += 1\n",
    "    return length\n",
    "\n",
    "def my_sum(list_1):\n",
    "    summation = 0\n",
    "    for i in list_1:\n",
    "        summation += i\n",
    "    return summation\n",
    "\n",
    "\n",
    "print(my_min(my_list))\n",
    "print(my_max(my_list))\n",
    "print(my_len(my_list))\n",
    "print(my_sum(my_list))"
   ]
  },
  {
   "cell_type": "code",
   "execution_count": 18,
   "metadata": {},
   "outputs": [
    {
     "name": "stdout",
     "output_type": "stream",
     "text": [
      "['b', 'a']\n",
      "['j', 'i', 'h', 'g', 'f', 'e', 'd', 'c', 'b']\n",
      "[]\n",
      "['g', 'f', 'e', 'd', 'c']\n",
      "['a', 'd', 'g']\n",
      "['c', 'b', 'a']\n",
      "['j', 'h', 'f', 'd']\n"
     ]
    }
   ],
   "source": [
    "## 슬라이싱 문제 복습\n",
    "\n",
    "new_list = ['a', 'b', 'c', 'd', 'e', 'f', 'g', 'h', 'i', 'j']\n",
    "\n",
    "print(new_list[1::-1]) # ['b', 'a']\n",
    "print(new_list[:0:-1]) # 반대로 쭉\n",
    "print(new_list[1:-3:-2]) # X\n",
    "print(new_list[-4:1:-1]) # g ~ c\n",
    "print(new_list[:-1:3]) # a,d,g\n",
    "print(new_list[2::-1]) # c,b,a\n",
    "print(new_list[:-9:-2]) # j, h, f, d"
   ]
  },
  {
   "cell_type": "code",
   "execution_count": 19,
   "metadata": {},
   "outputs": [
    {
     "name": "stdout",
     "output_type": "stream",
     "text": [
      "[1, 3]\n"
     ]
    }
   ],
   "source": [
    "# 다음 코드의 실행 결과는? 왜 그러는지도 설명\n",
    "# [1, 3]\n",
    "# len(nums) = 5 -> range(5) = 0,1,2,3,4 순회 => 2로 나눴을 때 나머지가 1인 홀수를 new_nums 리스트에 추가\n",
    "# 이런 코드를 뭐라고 부르는지\n",
    "# 리스트 컴프리헨션\n",
    "# 처음에 문제 낸게 옳은 거였구나 -> 내가 임의로 리스트컴프리헨션 [] 수정 -> 아니면 SyntaxError\n",
    "nums = [1, 2, 3, 4, 5]\n",
    "new_nums = [i for i in range(len(nums)) if i % 2 == 1]\n",
    "print(new_nums)"
   ]
  },
  {
   "cell_type": "code",
   "execution_count": 20,
   "metadata": {},
   "outputs": [
    {
     "name": "stdout",
     "output_type": "stream",
     "text": [
      "<map object at 0x0000020D735CCEE0>\n"
     ]
    }
   ],
   "source": [
    "# 다음 코드의 실행 결과는? 왜 그러는지도 설명\n",
    "\n",
    "nums = ['1', '2', '3', '4', '5']\n",
    "new_nums = map(int, nums)\n",
    "print(new_nums)"
   ]
  },
  {
   "cell_type": "markdown",
   "metadata": {},
   "source": [
    "### 천예진"
   ]
  },
  {
   "cell_type": "code",
   "execution_count": 24,
   "metadata": {},
   "outputs": [
    {
     "name": "stdout",
     "output_type": "stream",
     "text": [
      "702\n"
     ]
    }
   ],
   "source": [
    "# 문제 1\n",
    "# 아래 코드를 수정하여 정수 n이 주어질 때, n 이하의 짝수를 모두 더한 값을 return 하시오.\n",
    "\n",
    "def soultion(num):\n",
    "    summation = 0 # 짝수들의 합을 담을 변수 초기화\n",
    "    for i in range(1, num + 1): # 1부터 num까지 순회\n",
    "        if i % 2 == 0: # 짝수이면\n",
    "            summation += i # summation 변수에 해당 수를 더함\n",
    "            # print(i) # 짝수만 나오는지 확인\n",
    "    return summation # 합 반환\n",
    "\n",
    "n = 53\n",
    "print(soultion(n)) # 반환된 합을 출력"
   ]
  },
  {
   "cell_type": "code",
   "execution_count": 27,
   "metadata": {},
   "outputs": [
    {
     "name": "stdout",
     "output_type": "stream",
     "text": [
      "[1, 3, 5, 2, 8]\n"
     ]
    }
   ],
   "source": [
    "# 문제 3\n",
    "# 아래 코드를 수정하여 중복 된 숫자를 제외하고 새로운 리스트에 담으시오!!!\n",
    "\n",
    "def solution(lst):\n",
    "    new_list = [] # 새로운 리스트 생성\n",
    "    for i in lst: # 인자\n",
    "        if i not in new_list:\n",
    "            new_list.append(i)\n",
    "        else:\n",
    "            continue\n",
    "    return new_list\n",
    "\n",
    "b = [1, 1, 3, 5, 2, 2, 8]\n",
    "result = solution(b)\n",
    "\n",
    "print(result)"
   ]
  },
  {
   "cell_type": "code",
   "execution_count": 33,
   "metadata": {},
   "outputs": [
    {
     "name": "stdout",
     "output_type": "stream",
     "text": [
      "*********\n",
      " *******\n",
      "  *****\n",
      "   ***\n",
      "    *\n"
     ]
    }
   ],
   "source": [
    "n = int(input())\n",
    "\n",
    "for i in range(n): # 0 ~ 4 순회\n",
    "    print(' ' * i + '*' * (2 * n - ((2 * i) + 1)))"
   ]
  },
  {
   "cell_type": "code",
   "execution_count": 37,
   "metadata": {},
   "outputs": [
    {
     "name": "stdout",
     "output_type": "stream",
     "text": [
      "         *\n",
      "        ***\n",
      "       *****\n",
      "      *******\n",
      "     *********\n",
      "    ***********\n",
      "   *************\n",
      "  ***************\n",
      " *****************\n",
      "*******************\n",
      " *****************\n",
      "  ***************\n",
      "   *************\n",
      "    ***********\n",
      "     *********\n",
      "      *******\n",
      "       *****\n",
      "        ***\n",
      "         *\n"
     ]
    }
   ],
   "source": [
    "n = int(input())\n",
    "\n",
    "for i in range(n - 1):\n",
    "    print(' ' * (n - (i + 1)) + '*' * (2 * i + 1))\n",
    "for i in range(n): # 0 ~ 4 순회\n",
    "    print(' ' * i + '*' * (2 * n - ((2 * i) + 1)))"
   ]
  },
  {
   "cell_type": "code",
   "execution_count": 40,
   "metadata": {},
   "outputs": [
    {
     "name": "stdout",
     "output_type": "stream",
     "text": [
      "*        *\n",
      "**      **\n",
      "***    ***\n",
      "****  ****\n",
      "**********\n",
      "****  ****\n",
      "***    ***\n",
      "**      **\n",
      "*        *\n"
     ]
    }
   ],
   "source": [
    "# 8, 6, 4, 2\n",
    "# 1, 2, 3, 4, 5\n",
    "\n",
    "n = int(input())\n",
    "\n",
    "for i in range(1, n + 1):\n",
    "    print('*' * (i) + ' ' * 2 * (n - i) + '*' * (i))\n",
    "for i in range(1, n):\n",
    "    print('*' * (n - i) + ' ' * (i * 2) + '*' * (n - i))\n",
    "\n",
    "  \n",
    "    \n",
    "# for i in range(1, 2 * n): # 1 ~ 9\n",
    "#     if i <= n:\n",
    "#         print('*' * (i) + ' ' * 2 * (n - i) + '*' * (i))\n",
    "#     else:\n",
    "#         print('*' * )\n",
    "\n",
    "# # 6 => 2, 4, 8\n",
    "# # 7 => 3, 3, 6\n",
    "    "
   ]
  },
  {
   "cell_type": "markdown",
   "metadata": {},
   "source": [
    "### 1. 정수 n이 매개변수로 주어질 때, n 이하의 홀수가 오름차순으로 담긴 배열을 return하도록 test 함수를 완성해주세요."
   ]
  },
  {
   "cell_type": "code",
   "execution_count": 41,
   "metadata": {},
   "outputs": [
    {
     "name": "stdout",
     "output_type": "stream",
     "text": [
      "[1, 3, 5, 7, 9, 11, 13, 15, 17, 19, 21, 23, 25, 27, 29]\n"
     ]
    }
   ],
   "source": [
    "def test(n):\n",
    "    new_lst = []\n",
    "    for i in range(n):\n",
    "        if i  % 2 == 1:\n",
    "            new_lst.append(i)\n",
    "    return new_lst\n",
    "\n",
    "# 이 부분 수정 금지\n",
    "n = 30\n",
    "print(test(n)) # [1, 3, 5, 7, 9, 11, 13, 15, 17, 19, 21, 23, 25, 27, 29]"
   ]
  },
  {
   "cell_type": "markdown",
   "metadata": {},
   "source": [
    "### 2. 문자열 my_string이 매개변수로 주어집니다. my_string에서 중복된 문자를 제거하고 하나의 문자만 남긴 문자열을 return하도록 test 함수를 만드세요. (문자열 순서 상관없음)"
   ]
  },
  {
   "cell_type": "code",
   "execution_count": 5,
   "metadata": {},
   "outputs": [
    {
     "name": "stdout",
     "output_type": "stream",
     "text": [
      "abcd\n"
     ]
    }
   ],
   "source": [
    "def test(my_string):\n",
    "    # new_lst = []\n",
    "    # for i in my_string:\n",
    "    #     if i not in new_lst:\n",
    "    #         new_lst.append(i)\n",
    "    #     else:\n",
    "    #         continue\n",
    "    # return ''.join(new_lst)\n",
    "    new_string = list(set(my_string))\n",
    "    return ''.join(new_string)\n",
    "\n",
    "# 이 부분 수정 금지\n",
    "my_string = 'aaabbcccdddd'\n",
    "print(test(my_string))"
   ]
  },
  {
   "cell_type": "markdown",
   "metadata": {},
   "source": [
    "### 3. 위의 점수 중에 최고 점수를 구하는 get_best_score 함수를 만드세요. (단, min, max 함수 사용 금지)"
   ]
  },
  {
   "cell_type": "code",
   "execution_count": 8,
   "metadata": {},
   "outputs": [
    {
     "name": "stdout",
     "output_type": "stream",
     "text": [
      "90\n"
     ]
    }
   ],
   "source": [
    "def get_best_score(scores):\n",
    "    max_scores = 0\n",
    "    for i in scores:\n",
    "        if max_scores < i:\n",
    "            max_scores = i\n",
    "    return max_scores\n",
    "\n",
    "# 이 부분 수정 금지\n",
    "scores = [40, 90, 80]\n",
    "print(get_best_score(scores))"
   ]
  },
  {
   "cell_type": "code",
   "execution_count": 11,
   "metadata": {},
   "outputs": [
    {
     "name": "stdout",
     "output_type": "stream",
     "text": [
      "[59, 71, 44, 100, 93]\n",
      "44\n",
      "100\n",
      "5\n",
      "367\n",
      "최소: 44, 최대: 100, 길이: 5, 합: 367\n"
     ]
    }
   ],
   "source": [
    "my_list = [59, 71, 44, 100, 93]\n",
    "\n",
    "print(my_list) # 93 이후는 출력 안됨\n",
    "print(min(my_list))\n",
    "print(max(my_list))\n",
    "print(len(my_list))\n",
    "print(sum(my_list))\n",
    "\n",
    "def my_my(list_1): # len, max, min, sum 한 번에\n",
    "    max_num = -1e10\n",
    "    min_num = 1e10\n",
    "    length = 0\n",
    "    summation = 0\n",
    "    for i in list_1:\n",
    "        length += 1\n",
    "        summation += i\n",
    "        if max_num < i:\n",
    "            max_num = i\n",
    "        elif i < min_num:\n",
    "            min_num = i\n",
    "    return f'최소: {min_num}, 최대: {max_num}, 길이: {length}, 합: {summation}'\n",
    "    \n",
    "print(my_my(my_list))"
   ]
  },
  {
   "cell_type": "code",
   "execution_count": 21,
   "metadata": {},
   "outputs": [
    {
     "name": "stdout",
     "output_type": "stream",
     "text": [
      "-1 0 0 1 0 7 "
     ]
    }
   ],
   "source": [
    "# 3003\n",
    "\n",
    "lst = list(map(int, input().split()))\n",
    "og_lst = [1, 1, 2, 2, 2, 8]\n",
    "new_list = []\n",
    "\n",
    "for i in range(len(lst)):\n",
    "    print(f'{og_lst[i] - lst[i]} ', end='')\n",
    "    \n"
   ]
  },
  {
   "cell_type": "code",
   "execution_count": 29,
   "metadata": {},
   "outputs": [
    {
     "name": "stdout",
     "output_type": "stream",
     "text": [
      "55.55555555555556\n"
     ]
    }
   ],
   "source": [
    "# 1546\n",
    "\n",
    "# 자기 점수 최댓값 = M\n",
    "# 점수/M * 100\n",
    "\n",
    "num = int(input())\n",
    "scores = list(map(int, input().split()))\n",
    "\n",
    "max_score = max(scores)\n",
    "avg_score = 0\n",
    "\n",
    "for i in scores:\n",
    "    avg_score += i/max_score * 100\n",
    "avg_score /= len(scores)\n",
    "print(avg_score)\n"
   ]
  },
  {
   "cell_type": "code",
   "execution_count": 32,
   "metadata": {},
   "outputs": [
    {
     "name": "stdout",
     "output_type": "stream",
     "text": [
      "365\n",
      "WED\n"
     ]
    }
   ],
   "source": [
    "# 1924\n",
    "\n",
    "print(31 + 28 + 31 + 30 + 31 + 30 + 31 + 31 + 30 + 31 + 30 + 31)\n",
    "\n",
    "# 7 나머지 1 => 월\n",
    "M, D = map(int, input().split())\n",
    "lst = [31, 28, 31, 30, 31, 30, 31, 31, 30, 31, 30, 31]\n",
    "day = 0\n",
    "for i in range(M-1):\n",
    "    day += lst[i]\n",
    "day += D\n",
    "\n",
    "if day % 7 == 0:\n",
    "    print(\"SUN\")\n",
    "if day % 7 == 1:\n",
    "    print(\"MON\")\n",
    "if day % 7 == 2:\n",
    "    print(\"TUE\")\n",
    "if day % 7 == 3:\n",
    "    print(\"WED\")\n",
    "if day % 7 == 4:\n",
    "    print(\"THU\")\n",
    "if day % 7 == 5:\n",
    "    print(\"FRI\")\n",
    "if day % 7 == 6:\n",
    "    print(\"SAT\")\n",
    "    "
   ]
  },
  {
   "cell_type": "code",
   "execution_count": null,
   "metadata": {},
   "outputs": [],
   "source": []
  }
 ],
 "metadata": {
  "kernelspec": {
   "display_name": "Python 3",
   "language": "python",
   "name": "python3"
  },
  "language_info": {
   "codemirror_mode": {
    "name": "ipython",
    "version": 3
   },
   "file_extension": ".py",
   "mimetype": "text/x-python",
   "name": "python",
   "nbconvert_exporter": "python",
   "pygments_lexer": "ipython3",
   "version": "3.9.13"
  },
  "orig_nbformat": 4
 },
 "nbformat": 4,
 "nbformat_minor": 2
}
