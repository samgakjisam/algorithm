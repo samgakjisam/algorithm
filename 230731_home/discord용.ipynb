{
 "cells": [
  {
   "cell_type": "markdown",
   "metadata": {},
   "source": [
    "### 숫자의 성질로 가자 ex) 2^2 * 3^2 = 36 => 약수 3 * 3 개\n",
    "### Hint\n",
    "어떤 특정한 수들의 종류의 약수가 홀수인지 짝수인지 생각해보는 것이 좋을 것 같습니다.\n",
    "ex) 소수의 약수는 전부 1과 자신 둘뿐입니다.\n",
    "=> 홀수이려면 짝 * 짝 => 제곱수, 네제곱수 .... 어쨌든 root 씌우면 정수가 나옴(isinteger활용)\n",
    "### ==> 틀림...\n",
    "### 찾아보니까 부동소수점의 오류라고함. (\"정확히 왜 인지는 모르겠음\")\n",
    "### 남의 풀이 참고 (제곱근했다가 다시 제곱한게 원래 값과 같으면 제곱수)\n",
    "\n",
    "```\n",
    "N = int(input()) # 전체 테스트 개수\n",
    "X = list(map(int, input().split()))\n",
    "\n",
    "for i in range(N):\n",
    "    if (X[i] == int(X[i] ** 0.5) ** 2): # 제곱수이면\n",
    "        print(f'1 ', end='') # 약수는 홀수개\n",
    "    else:\n",
    "        print(f'0')\n",
    "```"
   ]
  }
 ],
 "metadata": {
  "language_info": {
   "name": "python"
  },
  "orig_nbformat": 4
 },
 "nbformat": 4,
 "nbformat_minor": 2
}
